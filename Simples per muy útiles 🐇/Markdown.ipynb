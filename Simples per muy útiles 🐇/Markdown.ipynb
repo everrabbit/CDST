{
 "cells": [
  {
   "cell_type": "markdown",
   "id": "cab5270b",
   "metadata": {},
   "source": []
  }
 ],
 "metadata": {
  "language_info": {
   "name": "python"
  }
 },
 "nbformat": 4,
 "nbformat_minor": 5
}
