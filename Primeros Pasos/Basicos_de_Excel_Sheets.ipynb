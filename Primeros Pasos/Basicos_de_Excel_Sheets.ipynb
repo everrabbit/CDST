{
 "cells": [
  {
   "cell_type": "markdown",
   "id": "c6814405",
   "metadata": {},
   "source": [
    "# 📓 Un poquito de magia teórica"
   ]
  }
 ],
 "metadata": {
  "language_info": {
   "name": "python"
  }
 },
 "nbformat": 4,
 "nbformat_minor": 5
}
