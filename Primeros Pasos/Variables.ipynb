{
 "cells": [
  {
   "cell_type": "markdown",
   "id": "537c6f6b",
   "metadata": {},
   "source": []
  }
 ],
 "metadata": {
  "language_info": {
   "name": "python"
  }
 },
 "nbformat": 4,
 "nbformat_minor": 5
}
