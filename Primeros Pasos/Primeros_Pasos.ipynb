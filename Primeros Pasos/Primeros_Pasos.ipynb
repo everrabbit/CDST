{
 "cells": [
  {
   "cell_type": "markdown",
   "id": "19a8940a",
   "metadata": {
    "vscode": {
     "languageId": "plaintext"
    }
   },
   "source": [
    "# Primeros pasos"
   ]
  }
 ],
 "metadata": {
  "language_info": {
   "name": "python"
  }
 },
 "nbformat": 4,
 "nbformat_minor": 5
}
