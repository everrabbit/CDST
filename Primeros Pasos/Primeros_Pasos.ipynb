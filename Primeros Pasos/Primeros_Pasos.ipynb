{
 "cells": [
  {
   "cell_type": "markdown",
   "id": "19a8940a",
   "metadata": {
    "vscode": {
     "languageId": "plaintext"
    }
   },
   "source": [
    "# Primeros pasos"
   ]
  },
  {
   "cell_type": "markdown",
   "id": "5fb67046",
   "metadata": {},
   "source": [
    "## Ejemplos de Color en Markdown\n",
    "\n",
    "### 1. Usando HTML inline\n",
    "Puedes usar etiquetas HTML para agregar color:\n",
    "- <span style=\"color: red;\">Texto en rojo</span>\n",
    "- <span style=\"color: blue;\">Texto en azul</span>\n",
    "- <span style=\"color: green;\">Texto en verde</span>\n",
    "- <span style=\"color: purple;\">Texto en morado</span>\n",
    "\n",
    "### 2. Con códigos de color hexadecimales\n",
    "- <span style=\"color: #FF5733;\">Naranja (#FF5733)</span>\n",
    "- <span style=\"color: #3498DB;\">Azul claro (#3498DB)</span>\n",
    "- <span style=\"color: #E74C3C;\">Rojo (#E74C3C)</span>\n",
    "\n",
    "### 3. Colores de fondo\n",
    "- <span style=\"background-color: yellow; color: black; padding: 2px 4px;\">Texto con fondo amarillo</span>\n",
    "- <span style=\"background-color: #2ECC71; color: white; padding: 2px 4px;\">Fondo verde</span>\n",
    "\n",
    "### 4. Combinando estilos\n",
    "- <span style=\"color: #8E44AD; font-weight: bold; font-size: 1.2em;\">Texto morado, negrita y grande</span>\n",
    "\n",
    "### 5. Para bloques de código coloreados\n",
    "```diff\n",
    "+ Esta línea aparece en verde (agregado)\n",
    "- Esta línea aparece en rojo (eliminado)\n",
    "# Esta línea aparece en gris (comentario)\n",
    "```\n",
    "\n",
    "**Nota:** En bloques `diff`, solo `+` (verde) y `-` (rojo) funcionan consistentemente. Para otros colores usa HTML.\n",
    "\n",
    "### 6. Alternativas para colores especiales\n",
    "Para colores como amarillo, usa HTML:\n",
    "- <span style=\"color: #F1C40F;\">⚠️ Advertencia en amarillo</span>\n",
    "- <span style=\"color: orange;\">🔥 Información importante</span>\n",
    "- <span style=\"background-color: #FFF3CD; color: #856404; padding: 2px 6px; border-radius: 3px;\">⚡ Nota destacada</span>\n",
    "\n",
    "### 7. Usando badges de color (funciona en algunos visualizadores)\n",
    "![Color Rojo](https://img.shields.io/badge/Estado-Activo-brightgreen)\n",
    "![Color Azul](https://img.shields.io/badge/Prioridad-Alta-red)\n",
    "![Color Verde](https://img.shields.io/badge/Versión-1.1-blue)"
   ]
  },
  {
   "cell_type": "markdown",
   "id": "43eb13de",
   "metadata": {},
   "source": [
    "## Ejemplos Adicionales y Creativos\n",
    "\n",
    "### 8. Texto con gradientes y efectos\n",
    "- <span style=\"background: linear-gradient(45deg, #ff6b6b, #4ecdc4); color: white; padding: 3px 8px; border-radius: 5px; font-weight: bold;\">Texto con gradiente</span>\n",
    "- <span style=\"color: #e74c3c; text-shadow: 2px 2px 4px rgba(0,0,0,0.3); font-size: 1.1em;\">Texto con sombra</span>\n",
    "\n",
    "### 9. Simulando elementos de interfaz\n",
    "- <span style=\"background-color: #28a745; color: white; padding: 4px 12px; border-radius: 4px; font-size: 0.9em;\">✅ ÉXITO</span>\n",
    "- <span style=\"background-color: #dc3545; color: white; padding: 4px 12px; border-radius: 4px; font-size: 0.9em;\">❌ ERROR</span>\n",
    "- <span style=\"background-color: #ffc107; color: black; padding: 4px 12px; border-radius: 4px; font-size: 0.9em;\">⚠️ ADVERTENCIA</span>\n",
    "- <span style=\"background-color: #17a2b8; color: white; padding: 4px 12px; border-radius: 4px; font-size: 0.9em;\">ℹ️ INFO</span>\n",
    "\n",
    "### 10. Código con resaltado de sintaxis personalizado\n",
    "```html\n",
    "<!-- Ejemplo de HTML coloreado -->\n",
    "<div style=\"color: blue;\">Elemento azul</div>\n",
    "<p style=\"color: red;\">Párrafo rojo</p>\n",
    "```\n",
    "\n",
    "### 11. Tablas con colores\n",
    "| Estado | Color | Ejemplo |\n",
    "|--------|--------|---------|\n",
    "| Activo | Verde | <span style=\"color: #28a745;\">●</span> Funcionando |\n",
    "| Inactivo | Rojo | <span style=\"color: #dc3545;\">●</span> Detenido |\n",
    "| Pendiente | Amarillo | <span style=\"color: #ffc107;\">●</span> En espera |\n",
    "| Procesando | Azul | <span style=\"color: #007bff;\">●</span> Trabajando |\n",
    "\n",
    "### 12. Emojis con colores de fondo\n",
    "- <span style=\"background-color: #ff4757; color: white; padding: 2px 6px; border-radius: 50%;\">🔥</span> Importante\n",
    "- <span style=\"background-color: #2ed573; color: white; padding: 2px 6px; border-radius: 50%;\">✓</span> Completado\n",
    "- <span style=\"background-color: #ffa502; color: white; padding: 2px 6px; border-radius: 50%;\">⚡</span> Rápido\n",
    "- <span style=\"background-color: #3742fa; color: white; padding: 2px 6px; border-radius: 50%;\">💡</span> Idea\n",
    "\n",
    "### 13. Texto con bordes coloreados\n",
    "<div style=\"border-left: 4px solid #e74c3c; padding-left: 10px; margin: 10px 0;\">\n",
    "<strong style=\"color: #e74c3c;\">Nota importante:</strong> Este es un mensaje destacado con borde rojo.\n",
    "</div>\n",
    "\n",
    "<div style=\"border-left: 4px solid #2ecc71; padding-left: 10px; margin: 10px 0;\">\n",
    "<strong style=\"color: #2ecc71;\">Consejo:</strong> Los bordes laterales son muy efectivos para destacar información.\n",
    "</div>\n",
    "\n",
    "### 14. Combinaciones de colores temáticas\n",
    "**Tema Oscuro:**\n",
    "- <span style=\"background-color: #2c3e50; color: #ecf0f1; padding: 3px 8px;\">Texto en tema oscuro</span>\n",
    "\n",
    "**Tema Claro:**\n",
    "- <span style=\"background-color: #ecf0f1; color: #2c3e50; padding: 3px 8px; border: 1px solid #bdc3c7;\">Texto en tema claro</span>\n",
    "\n",
    "**Tema Neón:**\n",
    "- <span style=\"background-color: #000; color: #00ff41; padding: 3px 8px; font-family: monospace;\">Texto estilo matriz</span>"
   ]
  },
  {
   "cell_type": "markdown",
   "id": "cf0e6333",
   "metadata": {},
   "source": [
    "## Ejemplos Avanzados y Únicos\n",
    "\n",
    "### 15. Progress bars y barras de estado\n",
    "**Barra de progreso CSS:**\n",
    "<div style=\"width: 100%; background-color: #f0f0f0; border-radius: 10px; overflow: hidden;\">\n",
    "  <div style=\"width: 50%; background: linear-gradient(90deg, #4CAF50, #45a049); height: 20px; text-align: center; line-height: 20px; color: white; font-size: 12px;\">50% Completado</div>\n",
    "</div>\n",
    "\n",
    "**Indicadores de nivel:**\n",
    "- <span style=\"color: #ff4444;\">██████░░░░</span> 60% - Crítico\n",
    "- <span style=\"color: #ffaa00;\">████████░░</span> 80% - Advertencia  \n",
    "- <span style=\"color: #44ff44;\">██████████</span> 100% - Óptimo\n",
    "\n",
    "### 16. Simulando código de terminal\n",
    "<div style=\"background-color: #1e1e1e; color: #d4d4d4; padding: 15px; border-radius: 5px; font-family: 'Courier New', monospace; margin: 10px 0;\">\n",
    "<span style=\"color: #569cd6;\">usuario@sistema</span><span style=\"color: #d4d4d4;\">:</span><span style=\"color: #4ec9b0;\">~/proyecto</span><span style=\"color: #d4d4d4;\">$ </span><span style=\"color: #ce9178;\">python script.py</span><br>\n",
    "<span style=\"color: #4fc1ff;\">INFO:</span> Proceso iniciado...<br>\n",
    "<span style=\"color: #b5cea8;\">SUCCESS:</span> Operación completada<br>\n",
    "<span style=\"color: #f44747;\">ERROR:</span> Archivo no encontrado\n",
    "</div>\n",
    "\n",
    "### 17. Etiquetas tipo GitHub\n",
    "<span style=\"background-color: #28a745; color: white; padding: 2px 8px; border-radius: 3px; font-size: 12px; font-family: monospace;\">feature</span>\n",
    "<span style=\"background-color: #dc3545; color: white; padding: 2px 8px; border-radius: 3px; font-size: 12px; font-family: monospace;\">bug</span>\n",
    "<span style=\"background-color: #6f42c1; color: white; padding: 2px 8px; border-radius: 3px; font-size: 12px; font-family: monospace;\">enhancement</span>\n",
    "<span style=\"background-color: #fd7e14; color: white; padding: 2px 8px; border-radius: 3px; font-size: 12px; font-family: monospace;\">help wanted</span>\n",
    "\n",
    "### 18. Bloques de código con temas\n",
    "**Tema Dracula:**\n",
    "<div style=\"background: #282a36; color: #f8f8f2; padding: 15px; border-radius: 5px; font-family: monospace;\">\n",
    "<span style=\"color: #ff79c6;\">def</span> <span style=\"color: #50fa7b;\">mi_funcion</span>(<span style=\"color: #ffb86c;\">parametro</span>):<br>\n",
    "&nbsp;&nbsp;&nbsp;&nbsp;<span style=\"color: #6272a4;\"># Comentario en gris</span><br>\n",
    "&nbsp;&nbsp;&nbsp;&nbsp;<span style=\"color: #ff79c6;\">return</span> <span style=\"color: #f1fa8c;\">\"Hola mundo\"</span>\n",
    "</div>\n",
    "\n",
    "### 19. Elementos interactivos simulados\n",
    "**Botones de acción:**\n",
    "<div style=\"margin: 10px 0;\">\n",
    "<span style=\"background: #007bff; color: white; padding: 8px 16px; border-radius: 4px; margin-right: 5px; cursor: pointer;\">▶️ Ejecutar</span>\n",
    "<span style=\"background: #6c757d; color: white; padding: 8px 16px; border-radius: 4px; margin-right: 5px;\">⏸️ Pausar</span>\n",
    "<span style=\"background: #dc3545; color: white; padding: 8px 16px; border-radius: 4px;\">⏹️ Detener</span>\n",
    "</div>\n",
    "\n",
    "### 20. Cards y paneles informativos\n",
    "<div style=\"border: 1px solid #e9ecef; border-radius: 8px; padding: 15px; margin: 10px 0; background: linear-gradient(135deg, #667eea 0%, #764ba2 100%); color: white;\">\n",
    "<h4 style=\"margin: 0 0 10px 0; color: white;\">📊 Panel de Estadísticas</h4>\n",
    "<div style=\"display: flex; justify-content: space-between;\">\n",
    "<div style=\"text-align: center;\">\n",
    "<div style=\"font-size: 24px; font-weight: bold;\">1,234</div>\n",
    "<div style=\"font-size: 12px; opacity: 0.8;\">Usuarios</div>\n",
    "</div>\n",
    "<div style=\"text-align: center;\">\n",
    "<div style=\"font-size: 24px; font-weight: bold;\">5,678</div>\n",
    "<div style=\"font-size: 12px; opacity: 0.8;\">Ventas</div>\n",
    "</div>\n",
    "<div style=\"text-align: center;\">\n",
    "<div style=\"font-size: 24px; font-weight: bold;\">90%</div>\n",
    "<div style=\"font-size: 12px; opacity: 0.8;\">Satisfacción</div>\n",
    "</div>\n",
    "</div>\n",
    "</div>\n",
    "\n",
    "### 21. Timeline con colores\n",
    "<div style=\"border-left: 3px solid #007bff; padding-left: 20px; margin: 20px 0;\">\n",
    "<div style=\"margin-bottom: 15px;\">\n",
    "<div style=\"background: #007bff; color: white; display: inline-block; padding: 2px 8px; border-radius: 10px; font-size: 12px;\">2024 Q1</div>\n",
    "<div style=\"margin-top: 5px;\">🚀 <strong>Lanzamiento del proyecto</strong></div>\n",
    "</div>\n",
    "<div style=\"margin-bottom: 15px;\">\n",
    "<div style=\"background: #28a745; color: white; display: inline-block; padding: 2px 8px; border-radius: 10px; font-size: 12px;\">2024 Q2</div>\n",
    "<div style=\"margin-top: 5px;\">📈 <strong>Primera versión estable</strong></div>\n",
    "</div>\n",
    "<div style=\"margin-bottom: 15px;\">\n",
    "<div style=\"background: #ffc107; color: black; display: inline-block; padding: 2px 8px; border-radius: 10px; font-size: 12px;\">2024 Q3</div>\n",
    "<div style=\"margin-top: 5px;\">🔧 <strong>Mejoras y optimizaciones</strong></div>\n",
    "</div>\n",
    "</div>\n",
    "\n",
    "### 22. Texto artístico y decorativo\n",
    "<div style=\"text-align: center; margin: 20px 0;\">\n",
    "<div style=\"font-size: 2em; background: linear-gradient(45deg, #ff6b6b, #4ecdc4, #45b7d1, #f9ca24); -webkit-background-clip: text; color: transparent; font-weight: bold;\">\n",
    "✨ TEXTO ARCOÍRIS ✨\n",
    "</div>\n",
    "<div style=\"font-size: 1.2em; color: #666; margin-top: 10px;\">\n",
    "<span style=\"color: #e74c3c;\">●</span>\n",
    "<span style=\"color: #f39c12;\">●</span>\n",
    "<span style=\"color: #f1c40f;\">●</span>\n",
    "<span style=\"color: #2ecc71;\">●</span>\n",
    "<span style=\"color: #3498db;\">●</span>\n",
    "<span style=\"color: #9b59b6;\">●</span>\n",
    "<span style=\"color: #e91e63;\">●</span>\n",
    "</div>\n",
    "</div>"
   ]
  },
  {
   "cell_type": "code",
   "execution_count": 2,
   "id": "b8c3b0af",
   "metadata": {},
   "outputs": [
    {
     "name": "stdout",
     "output_type": "stream",
     "text": [
      "=== EJEMPLOS DE USO ===\n",
      "\n"
     ]
    },
    {
     "data": {
      "text/markdown": [
       "## Texto generado con Python:\n",
       "\n",
       "- <span style=\"color: red;\">¡Hola!</span>\n",
       "- <span style=\"color: blue;\">Mundo</span>\n",
       "- <span style=\"color: green;\">Python</span>\n",
       "- <span style=\"color: purple;\">Markdown</span>\n",
       "- <span style=\"color: orange;\">Colores</span>\n"
      ],
      "text/plain": [
       "<IPython.core.display.Markdown object>"
      ]
     },
     "metadata": {},
     "output_type": "display_data"
    },
    {
     "name": "stdout",
     "output_type": "stream",
     "text": [
      "\n",
      "==================================================\n"
     ]
    },
    {
     "data": {
      "text/markdown": [
       "## Texto con fondos:\n",
       "\n",
       "- <span style=\"color: white; background-color: #28a745; padding: 2px 6px; border-radius: 3px;\">Éxito</span>\n",
       "- <span style=\"color: white; background-color: #dc3545; padding: 2px 6px; border-radius: 3px;\">Error</span>\n",
       "- <span style=\"color: black; background-color: #ffc107; padding: 2px 6px; border-radius: 3px;\">Advertencia</span>\n",
       "- <span style=\"color: white; background-color: #17a2b8; padding: 2px 6px; border-radius: 3px;\">Info</span>\n"
      ],
      "text/plain": [
       "<IPython.core.display.Markdown object>"
      ]
     },
     "metadata": {},
     "output_type": "display_data"
    },
    {
     "name": "stdout",
     "output_type": "stream",
     "text": [
      "\n",
      "==================================================\n"
     ]
    },
    {
     "data": {
      "text/markdown": [
       "## Botones generados:\n",
       "\n",
       "<span style=\"background-color: #28a745; color: white; padding: 6px 12px; border-radius: 4px; font-weight: bold;\">Ejecutar</span> <span style=\"background-color: #ffc107; color: black; padding: 6px 12px; border-radius: 4px; font-weight: bold;\">Pausar</span> <span style=\"background-color: #dc3545; color: white; padding: 6px 12px; border-radius: 4px; font-weight: bold;\">Detener</span>\n"
      ],
      "text/plain": [
       "<IPython.core.display.Markdown object>"
      ]
     },
     "metadata": {},
     "output_type": "display_data"
    }
   ],
   "source": [
    "# Función para generar Markdown con colores usando Python\n",
    "from IPython.display import Markdown, display\n",
    "\n",
    "def texto_coloreado(texto, color):\n",
    "    \"\"\"Función para crear texto con color en Markdown\"\"\"\n",
    "    return f'<span style=\"color: {color};\">{texto}</span>'\n",
    "\n",
    "def texto_con_fondo(texto, color_texto, color_fondo, padding=\"2px 6px\"):\n",
    "    \"\"\"Función para crear texto con color y fondo personalizado\"\"\"\n",
    "    return f'<span style=\"color: {color_texto}; background-color: {color_fondo}; padding: {padding}; border-radius: 3px;\">{texto}</span>'\n",
    "\n",
    "def boton_estilo(texto, color_fondo=\"#007bff\", color_texto=\"white\"):\n",
    "    \"\"\"Función para crear botones estilizados\"\"\"\n",
    "    return f'<span style=\"background-color: {color_fondo}; color: {color_texto}; padding: 6px 12px; border-radius: 4px; font-weight: bold;\">{texto}</span>'\n",
    "\n",
    "# Ejemplos de uso\n",
    "print(\"=== EJEMPLOS DE USO ===\\n\")\n",
    "\n",
    "# Ejemplo 1: Texto simple con colores\n",
    "colores = ['red', 'blue', 'green', 'purple', 'orange']\n",
    "textos = ['¡Hola!', 'Mundo', 'Python', 'Markdown', 'Colores']\n",
    "\n",
    "markdown_content = \"## Texto generado con Python:\\n\\n\"\n",
    "for texto, color in zip(textos, colores):\n",
    "    markdown_content += f\"- {texto_coloreado(texto, color)}\\n\"\n",
    "\n",
    "display(Markdown(markdown_content))\n",
    "\n",
    "# Ejemplo 2: Texto con fondos\n",
    "print(\"\\n\" + \"=\"*50)\n",
    "markdown_fondos = \"## Texto con fondos:\\n\\n\"\n",
    "markdown_fondos += f\"- {texto_con_fondo('Éxito', 'white', '#28a745')}\\n\"\n",
    "markdown_fondos += f\"- {texto_con_fondo('Error', 'white', '#dc3545')}\\n\"\n",
    "markdown_fondos += f\"- {texto_con_fondo('Advertencia', 'black', '#ffc107')}\\n\"\n",
    "markdown_fondos += f\"- {texto_con_fondo('Info', 'white', '#17a2b8')}\\n\"\n",
    "\n",
    "display(Markdown(markdown_fondos))\n",
    "\n",
    "# Ejemplo 3: Botones estilizados\n",
    "print(\"\\n\" + \"=\"*50)\n",
    "markdown_botones = \"## Botones generados:\\n\\n\"\n",
    "markdown_botones += f\"{boton_estilo('Ejecutar', '#28a745')} \"\n",
    "markdown_botones += f\"{boton_estilo('Pausar', '#ffc107', 'black')} \"\n",
    "markdown_botones += f\"{boton_estilo('Detener', '#dc3545')}\\n\"\n",
    "\n",
    "display(Markdown(markdown_botones))"
   ]
  },
  {
   "cell_type": "code",
   "execution_count": null,
   "id": "9f7c531c",
   "metadata": {},
   "outputs": [
    {
     "name": "stdout",
     "output_type": "stream",
     "text": [
      "🎨 GENERANDO ESTRUCTURAS AVANZADAS EN MARKDOWN\n",
      "============================================================\n"
     ]
    },
    {
     "data": {
      "text/markdown": [
       "## Panel Generado con Python:\n",
       "\n",
       "\n",
       "<div style=\"border: 1px solid #e9ecef; border-radius: 8px; padding: 15px; margin: 10px 0; background: linear-gradient(135deg, #e74c3c 0%, #c0392b 100%); color: white;\">\n",
       "<h4 style=\"margin: 0 0 10px 0; color: white;\">📈 Dashboard de Ventas</h4>\n",
       "<div style=\"display: flex; justify-content: space-between;\">\n",
       "<div style=\"text-align: center;\">\n",
       "<div style=\"font-size: 24px; font-weight: bold;\">2,450</div>\n",
       "<div style=\"font-size: 12px; opacity: 0.8;\">Ventas</div>\n",
       "</div>\n",
       "<div style=\"text-align: center;\">\n",
       "<div style=\"font-size: 24px; font-weight: bold;\">95%</div>\n",
       "<div style=\"font-size: 12px; opacity: 0.8;\">Satisfacción</div>\n",
       "</div>\n",
       "<div style=\"text-align: center;\">\n",
       "<div style=\"font-size: 24px; font-weight: bold;\">128</div>\n",
       "<div style=\"font-size: 12px; opacity: 0.8;\">Clientes</div>\n",
       "</div>\n",
       "<div style=\"text-align: center;\">\n",
       "<div style=\"font-size: 24px; font-weight: bold;\">$45K</div>\n",
       "<div style=\"font-size: 12px; opacity: 0.8;\">Ingresos</div>\n",
       "</div>\n",
       "</div>\n",
       "</div>"
      ],
      "text/plain": [
       "<IPython.core.display.Markdown object>"
      ]
     },
     "metadata": {},
     "output_type": "display_data"
    },
    {
     "name": "stdout",
     "output_type": "stream",
     "text": [
      "\n",
      "============================================================\n"
     ]
    },
    {
     "data": {
      "text/markdown": [
       "## Barras de Progreso Dinámicas:\n",
       "\n",
       "\n",
       "<div style=\"width: 100%; background-color: #f0f0f0; border-radius: 10px; overflow: hidden; margin: 10px 0;\">\n",
       "  <div style=\"width: 85%; background: linear-gradient(90deg, #28a745, #20c997); height: 20px; text-align: center; line-height: 20px; color: white; font-size: 12px;\">85% Completado</div>\n",
       "</div>\n",
       "<div style=\"width: 100%; background-color: #f0f0f0; border-radius: 10px; overflow: hidden; margin: 10px 0;\">\n",
       "  <div style=\"width: 60%; background: linear-gradient(90deg, #ffc107, #fd7e14); height: 20px; text-align: center; line-height: 20px; color: white; font-size: 12px;\">60% En Proceso</div>\n",
       "</div>\n",
       "<div style=\"width: 100%; background-color: #f0f0f0; border-radius: 10px; overflow: hidden; margin: 10px 0;\">\n",
       "  <div style=\"width: 30%; background: linear-gradient(90deg, #dc3545, #c82333); height: 20px; text-align: center; line-height: 20px; color: white; font-size: 12px;\">30% Pendiente</div>\n",
       "</div>"
      ],
      "text/plain": [
       "<IPython.core.display.Markdown object>"
      ]
     },
     "metadata": {},
     "output_type": "display_data"
    },
    {
     "name": "stdout",
     "output_type": "stream",
     "text": [
      "\n",
      "============================================================\n"
     ]
    },
    {
     "data": {
      "text/markdown": [
       "## Terminal Simulado:\n",
       "\n",
       "<div style=\"background-color: #1e1e1e; color: #d4d4d4; padding: 15px; border-radius: 5px; font-family: 'Courier New', monospace; margin: 10px 0;\"><span style=\"color: #569cd6;\">usuario@sistema</span><span style=\"color: #d4d4d4;\">:</span><span style=\"color: #4ec9b0;\">~/proyecto</span><span style=\"color: #d4d4d4;\">$ </span><span style=\"color: #ce9178;\">pip install pandas</span><br><span style=\"color: #b5cea8;\">Successfully installed pandas-2.0.0</span><br><span style=\"color: #569cd6;\">usuario@sistema</span><span style=\"color: #d4d4d4;\">:</span><span style=\"color: #4ec9b0;\">~/proyecto</span><span style=\"color: #d4d4d4;\">$ </span><span style=\"color: #ce9178;\">python --version</span><br><span style=\"color: #4fc1ff;\">Python 3.11.0</span><br><span style=\"color: #569cd6;\">usuario@sistema</span><span style=\"color: #d4d4d4;\">:</span><span style=\"color: #4ec9b0;\">~/proyecto</span><span style=\"color: #d4d4d4;\">$ </span><span style=\"color: #ce9178;\">ls -la</span><br><span style=\"color: #d4d4d4;\">total 8\n",
       "drwxr-xr-x 3 user staff 96 Jul 20 10:30 .</span><br><span style=\"color: #569cd6;\">usuario@sistema</span><span style=\"color: #d4d4d4;\">:</span><span style=\"color: #4ec9b0;\">~/proyecto</span><span style=\"color: #d4d4d4;\">$ </span><span style=\"color: #ce9178;\">git status</span><br><span style=\"color: #f44747;\">fatal: not a git repository</span><br></div>"
      ],
      "text/plain": [
       "<IPython.core.display.Markdown object>"
      ]
     },
     "metadata": {},
     "output_type": "display_data"
    },
    {
     "name": "stdout",
     "output_type": "stream",
     "text": [
      "\n",
      "============================================================\n"
     ]
    },
    {
     "data": {
      "text/markdown": [
       "## Timeline del Proyecto:\n",
       "\n",
       "<div style=\"border-left: 3px solid #007bff; padding-left: 20px; margin: 20px 0;\">\n",
       "    <div style=\"margin-bottom: 15px;\">\n",
       "    <div style=\"background: #007bff; color: white; display: inline-block; padding: 2px 8px; border-radius: 10px; font-size: 12px;\">Ene 2024</div>\n",
       "    <div style=\"margin-top: 5px;\">🚀 <strong>Inicio del proyecto</strong></div>\n",
       "    </div>\n",
       "    <div style=\"margin-bottom: 15px;\">\n",
       "    <div style=\"background: #28a745; color: white; display: inline-block; padding: 2px 8px; border-radius: 10px; font-size: 12px;\">Mar 2024</div>\n",
       "    <div style=\"margin-top: 5px;\">📝 <strong>Primera documentación</strong></div>\n",
       "    </div>\n",
       "    <div style=\"margin-bottom: 15px;\">\n",
       "    <div style=\"background: #ffc107; color: white; display: inline-block; padding: 2px 8px; border-radius: 10px; font-size: 12px;\">May 2024</div>\n",
       "    <div style=\"margin-top: 5px;\">🔧 <strong>Desarrollo MVP</strong></div>\n",
       "    </div>\n",
       "    <div style=\"margin-bottom: 15px;\">\n",
       "    <div style=\"background: #17a2b8; color: white; display: inline-block; padding: 2px 8px; border-radius: 10px; font-size: 12px;\">Jul 2024</div>\n",
       "    <div style=\"margin-top: 5px;\">🎉 <strong>Lanzamiento público</strong></div>\n",
       "    </div></div>"
      ],
      "text/plain": [
       "<IPython.core.display.Markdown object>"
      ]
     },
     "metadata": {},
     "output_type": "display_data"
    },
    {
     "name": "stdout",
     "output_type": "stream",
     "text": [
      "\n",
      "============================================================\n",
      "✅ ¡Todas las estructuras generadas exitosamente!\n",
      "💡 Puedes personalizar colores, datos y estilos fácilmente\n"
     ]
    }
   ],
   "source": [
    "# Funciones avanzadas para generar estructuras complejas en Markdown\n",
    "from IPython.display import Markdown, display\n",
    "\n",
    "def panel_estadisticas(titulo, estadisticas, gradiente_inicio=\"#667eea\", gradiente_fin=\"#764ba2\"):\n",
    "    \"\"\"\n",
    "    Genera un panel de estadísticas con gradiente\n",
    "    \n",
    "    Args:\n",
    "        titulo: Título del panel\n",
    "        estadisticas: Lista de tuplas (valor, descripcion)\n",
    "        gradiente_inicio: Color inicial del gradiente\n",
    "        gradiente_fin: Color final del gradiente\n",
    "    \"\"\"\n",
    "    # Crear las columnas de estadísticas\n",
    "    columnas = \"\"\n",
    "    for valor, descripcion in estadisticas:\n",
    "        columnas += f'''\n",
    "<div style=\"text-align: center;\">\n",
    "<div style=\"font-size: 24px; font-weight: bold;\">{valor}</div>\n",
    "<div style=\"font-size: 12px; opacity: 0.8;\">{descripcion}</div>\n",
    "</div>'''\n",
    "    \n",
    "    # Crear el panel completo\n",
    "    panel = f'''\n",
    "<div style=\"border: 1px solid #e9ecef; border-radius: 8px; padding: 15px; margin: 10px 0; background: linear-gradient(135deg, {gradiente_inicio} 0%, {gradiente_fin} 100%); color: white;\">\n",
    "<h4 style=\"margin: 0 0 10px 0; color: white;\">{titulo}</h4>\n",
    "<div style=\"display: flex; justify-content: space-between;\">{columnas}\n",
    "</div>\n",
    "</div>'''\n",
    "    \n",
    "    return panel\n",
    "\n",
    "def barra_progreso(porcentaje, etiqueta=\"Progreso\", color_inicio=\"#4CAF50\", color_fin=\"#45a049\"):\n",
    "    \"\"\"Genera una barra de progreso personalizada\"\"\"\n",
    "    return f'''\n",
    "<div style=\"width: 100%; background-color: #f0f0f0; border-radius: 10px; overflow: hidden; margin: 10px 0;\">\n",
    "  <div style=\"width: {porcentaje}%; background: linear-gradient(90deg, {color_inicio}, {color_fin}); height: 20px; text-align: center; line-height: 20px; color: white; font-size: 12px;\">{porcentaje}% {etiqueta}</div>\n",
    "</div>'''\n",
    "\n",
    "def terminal_output(comandos_y_outputs):\n",
    "    \"\"\"\n",
    "    Genera una simulación de terminal\n",
    "    \n",
    "    Args:\n",
    "        comandos_y_outputs: Lista de tuplas (comando, output, color_output)\n",
    "    \"\"\"\n",
    "    contenido = '<div style=\"background-color: #1e1e1e; color: #d4d4d4; padding: 15px; border-radius: 5px; font-family: \\'Courier New\\', monospace; margin: 10px 0;\">'\n",
    "    \n",
    "    for comando, output, color in comandos_y_outputs:\n",
    "        contenido += f'<span style=\"color: #569cd6;\">usuario@sistema</span><span style=\"color: #d4d4d4;\">:</span><span style=\"color: #4ec9b0;\">~/proyecto</span><span style=\"color: #d4d4d4;\">$ </span><span style=\"color: #ce9178;\">{comando}</span><br>'\n",
    "        contenido += f'<span style=\"color: {color};\">{output}</span><br>'\n",
    "    \n",
    "    contenido += '</div>'\n",
    "    return contenido\n",
    "\n",
    "def timeline_evento(eventos):\n",
    "    \"\"\"\n",
    "    Genera un timeline con eventos coloreados\n",
    "    \n",
    "    Args:\n",
    "        eventos: Lista de tuplas (fecha, titulo, descripcion, color)\n",
    "    \"\"\"\n",
    "    contenido = '<div style=\"border-left: 3px solid #007bff; padding-left: 20px; margin: 20px 0;\">'\n",
    "    \n",
    "    for fecha, titulo, descripcion, color in eventos:\n",
    "        contenido += f'''\n",
    "    <div style=\"margin-bottom: 15px;\">\n",
    "    <div style=\"background: {color}; color: white; display: inline-block; padding: 2px 8px; border-radius: 10px; font-size: 12px;\">{fecha}</div>\n",
    "    <div style=\"margin-top: 5px;\">{titulo} <strong>{descripcion}</strong></div>\n",
    "    </div>'''\n",
    "    \n",
    "    contenido += '</div>'\n",
    "    return contenido\n",
    "\n",
    "# ===== EJEMPLOS DE USO =====\n",
    "print(\"🎨 GENERANDO ESTRUCTURAS AVANZADAS EN MARKDOWN\\n\" + \"=\"*60)\n",
    "\n",
    "# Ejemplo 1: Panel de estadísticas personalizado\n",
    "estadisticas_ventas = [\n",
    "                (\"2,450\", \"Ventas\"),\n",
    "                (\"95%\", \"Satisfacción\"),\n",
    "                (\"128\", \"Clientes\"),\n",
    "                (\"$45K\", \"Ingresos\")\n",
    "            ]\n",
    "\n",
    "panel_ventas = panel_estadisticas(\n",
    "    \"📈 Dashboard de Ventas\", \n",
    "    estadisticas_ventas,\n",
    "    \"#e74c3c\",  # Rojo\n",
    "    \"#c0392b\"   # Rojo oscuro\n",
    ")\n",
    "\n",
    "markdown_panel = f\"## Panel Generado con Python:\\n\\n{panel_ventas}\"\n",
    "display(Markdown(markdown_panel))\n",
    "\n",
    "# Ejemplo 2: Múltiples barras de progreso\n",
    "print(\"\\n\" + \"=\"*60)\n",
    "barras_html = \"## Barras de Progreso Dinámicas:\\n\\n\"\n",
    "barras_html += barra_progreso(85, \"Completado\", \"#28a745\", \"#20c997\")\n",
    "barras_html += barra_progreso(60, \"En Proceso\", \"#ffc107\", \"#fd7e14\")\n",
    "barras_html += barra_progreso(30, \"Pendiente\", \"#dc3545\", \"#c82333\")\n",
    "\n",
    "display(Markdown(barras_html))\n",
    "\n",
    "# Ejemplo 3: Terminal simulado con múltiples comandos\n",
    "print(\"\\n\" + \"=\"*60)\n",
    "comandos = [\n",
    "    (\"pip install pandas\", \"Successfully installed pandas-2.0.0\", \"#b5cea8\"),\n",
    "    (\"python --version\", \"Python 3.11.0\", \"#4fc1ff\"),\n",
    "    (\"ls -la\", \"total 8\\ndrwxr-xr-x 3 user staff 96 Jul 20 10:30 .\", \"#d4d4d4\"),\n",
    "    (\"git status\", \"fatal: not a git repository\", \"#f44747\")\n",
    "]\n",
    "\n",
    "terminal_html = f\"## Terminal Simulado:\\n\\n{terminal_output(comandos)}\"\n",
    "display(Markdown(terminal_html))\n",
    "\n",
    "# Ejemplo 4: Timeline de proyecto\n",
    "print(\"\\n\" + \"=\"*60)\n",
    "eventos_proyecto = [\n",
    "    (\"Ene 2024\", \"🚀\", \"Inicio del proyecto\", \"#007bff\"),\n",
    "    (\"Mar 2024\", \"📝\", \"Primera documentación\", \"#28a745\"),\n",
    "    (\"May 2024\", \"🔧\", \"Desarrollo MVP\", \"#ffc107\"),\n",
    "    (\"Jul 2024\", \"🎉\", \"Lanzamiento público\", \"#17a2b8\")\n",
    "]\n",
    "\n",
    "timeline_html = f\"## Timeline del Proyecto:\\n\\n{timeline_evento(eventos_proyecto)}\"\n",
    "display(Markdown(timeline_html))\n",
    "\n",
    "print(\"\\n\" + \"=\"*60)\n",
    "print(\"✅ ¡Todas las estructuras generadas exitosamente!\")\n",
    "print(\"💡 Puedes personalizar colores, datos y estilos fácilmente\")"
   ]
  }
 ],
 "metadata": {
  "kernelspec": {
   "display_name": "base",
   "language": "python",
   "name": "python3"
  },
  "language_info": {
   "codemirror_mode": {
    "name": "ipython",
    "version": 3
   },
   "file_extension": ".py",
   "mimetype": "text/x-python",
   "name": "python",
   "nbconvert_exporter": "python",
   "pygments_lexer": "ipython3",
   "version": "3.12.4"
  }
 },
 "nbformat": 4,
 "nbformat_minor": 5
}
