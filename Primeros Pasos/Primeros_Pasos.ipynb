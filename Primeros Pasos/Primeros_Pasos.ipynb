{
 "cells": [
  {
   "cell_type": "markdown",
   "id": "19a8940a",
   "metadata": {
    "vscode": {
     "languageId": "plaintext"
    }
   },
   "source": [
    "# Primeros pasos"
   ]
  },
  {
   "cell_type": "markdown",
   "id": "5fb67046",
   "metadata": {},
   "source": [
    "## Ejemplos de Color en Markdown\n",
    "\n",
    "### 1. Usando HTML inline\n",
    "Puedes usar etiquetas HTML para agregar color:\n",
    "- <span style=\"color: red;\">Texto en rojo</span>\n",
    "- <span style=\"color: blue;\">Texto en azul</span>\n",
    "- <span style=\"color: green;\">Texto en verde</span>\n",
    "- <span style=\"color: purple;\">Texto en morado</span>\n",
    "\n",
    "### 2. Con códigos de color hexadecimales\n",
    "- <span style=\"color: #FF5733;\">Naranja (#FF5733)</span>\n",
    "- <span style=\"color: #3498DB;\">Azul claro (#3498DB)</span>\n",
    "- <span style=\"color: #E74C3C;\">Rojo (#E74C3C)</span>\n",
    "\n",
    "### 3. Colores de fondo\n",
    "- <span style=\"background-color: yellow; color: black; padding: 2px 4px;\">Texto con fondo amarillo</span>\n",
    "- <span style=\"background-color: #2ECC71; color: white; padding: 2px 4px;\">Fondo verde</span>\n",
    "\n",
    "### 4. Combinando estilos\n",
    "- <span style=\"color: #8E44AD; font-weight: bold; font-size: 1.2em;\">Texto morado, negrita y grande</span>\n",
    "\n",
    "### 5. Para bloques de código coloreados\n",
    "```diff\n",
    "+ Esta línea aparece en verde (agregado)\n",
    "- Esta línea aparece en rojo (eliminado)\n",
    "# Esta línea aparece en gris (comentario)\n",
    "```\n",
    "\n",
    "**Nota:** En bloques `diff`, solo `+` (verde) y `-` (rojo) funcionan consistentemente. Para otros colores usa HTML.\n",
    "\n",
    "### 6. Alternativas para colores especiales\n",
    "Para colores como amarillo, usa HTML:\n",
    "- <span style=\"color: #F1C40F;\">⚠️ Advertencia en amarillo</span>\n",
    "- <span style=\"color: orange;\">🔥 Información importante</span>\n",
    "- <span style=\"background-color: #FFF3CD; color: #856404; padding: 2px 6px; border-radius: 3px;\">⚡ Nota destacada</span>\n",
    "\n",
    "### 7. Usando badges de color (funciona en algunos visualizadores)\n",
    "![Color Rojo](https://img.shields.io/badge/Estado-Activo-brightgreen)\n",
    "![Color Azul](https://img.shields.io/badge/Prioridad-Alta-red)\n",
    "![Color Verde](https://img.shields.io/badge/Versión-1.1-blue)"
   ]
  },
  {
   "cell_type": "code",
   "execution_count": 1,
   "id": "ff8d5bff",
   "metadata": {},
   "outputs": [
    {
     "data": {
      "text/markdown": [
       "## Texto generado con Python:\n",
       "\n",
       "- <span style=\"color: red;\">¡Hola!</span>\n",
       "- <span style=\"color: blue;\">Mundo</span>\n",
       "- <span style=\"color: green;\">Python</span>\n",
       "- <span style=\"color: purple;\">Markdown</span>\n",
       "- <span style=\"color: orange;\">Colores</span>\n"
      ],
      "text/plain": [
       "<IPython.core.display.Markdown object>"
      ]
     },
     "metadata": {},
     "output_type": "display_data"
    }
   ],
   "source": [
    "# Ejemplo: Generar Markdown con colores usando Python\n",
    "from IPython.display import Markdown, display\n",
    "\n",
    "def texto_coloreado(texto, color):\n",
    "    \"\"\"Función para crear texto con color en Markdown\"\"\"\n",
    "    return f'<span style=\"color: {color};\">{texto}</span>'\n",
    "\n",
    "# Ejemplos de uso\n",
    "colores = ['red', 'blue', 'green', 'purple', 'orange']\n",
    "textos = ['¡Hola!', 'Mundo', 'Python', 'Markdown', 'Colores']\n",
    "\n",
    "markdown_content = \"## Texto generado con Python:\\n\\n\"\n",
    "for texto, color in zip(textos, colores):\n",
    "    markdown_content += f\"- {texto_coloreado(texto, color)}\\n\"\n",
    "\n",
    "# Mostrar el resultado\n",
    "display(Markdown(markdown_content))"
   ]
  },
  {
   "cell_type": "code",
   "execution_count": null,
   "id": "b8c3b0af",
   "metadata": {},
   "outputs": [],
   "source": []
  }
 ],
 "metadata": {
  "kernelspec": {
   "display_name": "base",
   "language": "python",
   "name": "python3"
  },
  "language_info": {
   "codemirror_mode": {
    "name": "ipython",
    "version": 3
   },
   "file_extension": ".py",
   "mimetype": "text/x-python",
   "name": "python",
   "nbconvert_exporter": "python",
   "pygments_lexer": "ipython3",
   "version": "3.12.4"
  }
 },
 "nbformat": 4,
 "nbformat_minor": 5
}
