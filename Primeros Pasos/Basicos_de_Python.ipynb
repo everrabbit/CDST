{
 "cells": [
  {
   "cell_type": "markdown",
   "id": "b58eed78",
   "metadata": {},
   "source": [
    "<div style=\"border-left: 6px solid #00b894; padding: 1.5em; background: #eafff5; border-radius: 10px; font-family: 'Segoe UI', sans-serif; line-height: 1.6; color: #00675b;\">\n",
    "  <h2 style=\"color:#00b894; margin-top: 0;\">🐍 Un poquito de teoría</h2>\n",
    "  <p>Hay algunos detalles que nos ayudarán a comprender de qué nos hablan cuando se refieren a Python</p>\n",
    "  <ul>\n",
    "    <li>Para que no te agarren en curva expliquemos Python</li>\n",
    "    <li>El Sr Kernel</li>\n",
    "    <li>¿Cómo sabemos que es un notebook?</li>\n",
    "  </ul>\n",
    "\n",
    "  <div style=\"margin-top: 1.5em; padding: 0.8em 1em; background-color: #ffe6e6; border-left: 4px solid crimson; border-radius: 6px; color: crimson; font-size: 0.95em;\">\n",
    "    🔎 <strong>Nota:</strong> Me encantaría decirte que leas todo mi contenido a detalle, sé por experiencia que fácilmente nos aburrimos de leer, sin embargo, sugiero que esta sección la leas completa. Solo por esta ocasión. 😉\n",
    "  </div>\n",
    "</div>"
   ]
  },
  {
   "cell_type": "markdown",
   "id": "9ea1caa8",
   "metadata": {},
   "source": [
    "# <span style=\"color: #062b06ff;\">📓 **Noteboook**</span>"
   ]
  },
  {
   "cell_type": "markdown",
   "id": "d1fabdd5",
   "metadata": {},
   "source": [
    "<div style=\"border-left: 6px solid #6a0dad; padding: 1.5em; background: #f9f2ff; border-radius: 10px; font-family: 'Segoe UI', sans-serif; line-height: 1.6;\">\n",
    "  <h2 style=\"color:#6a0dad; margin-top: 0;\">O sea si sé que significa 🤔 cuando lo traduzco a español pero...</h2>\n",
    "\n",
    "<p>Un <strong>Notebook</strong> es una libreta interactiva donde puedes escribir instrucciones (código) y ver cómo la computadora te responde. Pero no solo con texto plano… aquí puedes tener tablas, gráficas, botones, hasta animaciones si te pones muy creativo.</p>\n",
    "\n",
    "<p>¿Y por qué está en inglés? Porque así se programan las computadoras. No es que queramos sonar más “tech” o modernos, simplemente <em>los lenguajes de programación están basados en palabras clave en inglés</em>: cosas como <code>print</code>, <code>input</code>, <code>if</code>, <code>while</code> y compañía.</p>\n",
    "\n",
    "<p style=\"margin-left: 1em;\">🔤 <strong>Traducción para humanos:</strong> no necesitas hablar inglés fluido, pero sí vas a ver palabras y estructuras simples. Spoiler: aprendes su significado muy rápido, porque hacen cosas útiles.</p>\n",
    "\n",
    "<p>📁 Si descargaste este archivo desde GitHub, verás que termina en <code>.ipynb</code> — eso significa <em>Interactive Python Notebook</em>. Y sí, eso quiere decir que es un archivo especial que se abre con algo como <strong>Jupyter</strong> o <strong>Google Colab</strong> y el recomendado  <strong>VSCode</strong>, no con Excel ni con Word (no insistas).</p>\n",
    "\n",
    "  <div style=\"margin-top: 1.5em; padding: 0.8em 1em; background-color: #e7dcf0ff; border-left: 4px solid purple; border-radius: 6px; color: purple; font-size: 0.95em;\">\n",
    "    🔎 <strong>Nota:</strong> No entres en pánico, solo debes recordar que es un notebook cuando tenga esa extensión de archivo. Por si algún 🤡 te pregunta para ver si sabes, ya tienes la respuesta. \n",
    "  </div>\n",
    "\n",
    "</div>"
   ]
  },
  {
   "cell_type": "markdown",
   "id": "03bf2b4a",
   "metadata": {},
   "source": [
    "# <span style=\"color: #062b06ff;\">🧠 **Kernel**</span>"
   ]
  },
  {
   "cell_type": "markdown",
   "id": "4b540c4d",
   "metadata": {},
   "source": [
    "<div style=\"border-left: 6px solid #f231a8ff; padding: 1.5em; background: #f4d5f4ff; border-radius: 10px; font-family: 'Segoe UI', sans-serif; line-height: 1.6;\">\n",
    "\n",
    "\n",
    "<hr style=\"border:none; border-top:1px solid #ccc;\" />\n",
    "\n",
    "<h2 style=\"color:#6a0dad;\">🧠 ¿Y qué es eso del <code>Kernel</code>? ¿Y por qué suena a robot 🤖 o del espacio 🛸?</h2>\n",
    "\n",
    "<p><strong>Porque lo es… un poco.</strong></p>\n",
    "\n",
    "<p>El <strong>kernel</strong> es el motorcito del notebook. Tú escribes código, él lo entiende, lo ejecuta y te responde. Es como el chef de un restaurante: tú pides “suma estos datos”, y él va, lo hace, y te entrega el platillo (el resultado).</p>\n",
    "\n",
    "<p>Sin kernel, no pasa nada. Literal. Puedes escribir todo lo que quieras… y no obtendrás respuesta. Como gritarle a una tele apagada.</p>\n",
    "\n",
    "<h3 style=\"color:#6a0dad;\">⚙️ ¿Dónde vive el kernel?</h3>\n",
    "\n",
    "<ul style=\"margin-left: 1.5em;\">\n",
    "  <li><strong>Google Colab / Kaggle / otros notebooks en la nube:</strong> el kernel está en internet. Tú escribes y un servidor en el espacio cibernético ejecuta tu código.</li>\n",
    "  <li><strong>Jupyter Notebook local (en tu compu):</strong> el kernel corre ahí mismo, en tu máquina. Sin Wi-Fi, pero con poder local.</li>\n",
    "</ul>\n",
    "\n",
    "<h3 style=\"color:#6a0dad;\">💥 ¿Y qué le puede pasar al kernel?</h3>\n",
    "\n",
    "<ul style=\"margin-left: 1.5em;\">\n",
    "  <li>🔁 <strong>Se reinicia:</strong> tú lo apagaste (por error o por limpieza mental).</li>\n",
    "  <li>🚫 <strong>Se cae:</strong> le pediste algo raro, como dividir entre cero o cargar un archivo de 4GB en una tostadora.</li>\n",
    "  <li>😴 <strong>Se duerme:</strong> Google decidió que ya fue mucho por hoy.</li>\n",
    "</ul>\n",
    "\n",
    "<p>¿La solución mágica? <strong>Reinicia el kernel</strong>. Ya.  \n",
    "Haz clic en “<em>Restart kernel</em>” o su equivalente, y todo vuelve a la normalidad.  \n",
    "Es el “apaga y prende” de toda la vida. Funciona 9 de cada 10 veces.</p>\n",
    "\n",
    "<hr style=\"border:none; border-top:1px solid #ccc;\" />\n",
    "\n",
    "<p><em style=\"color: #555;\">📌 Nota:</em> Cada vez que reinicies el kernel, tendrás que volver a ejecutar tus celdas. El kernel pierde la memoria, como si se hubiera echado un tequila.</p>\n",
    "\n",
    "</div>"
   ]
  },
  {
   "cell_type": "markdown",
   "id": "3bb06b58",
   "metadata": {},
   "source": [
    "<div style=\"border-left: 6px solid #6a0dad; padding: 1.5em; background: #f9f2ff; border-radius: 10px; font-family: 'Segoe UI', sans-serif; line-height: 1.6;\">\n",
    "  <h2 style=\"color:#6a0dad; margin-top: 0;\">📘 Título de Sección Morada</h2>\n",
    "  <p>Este es un bloque con estilo visual morado, perfecto para destacar ideas clave, explicaciones o tips con actitud mágica.</p>\n",
    "</div>"
   ]
  },
  {
   "cell_type": "markdown",
   "id": "868fa1f5",
   "metadata": {},
   "source": [
    "<div style=\"border-left: 6px solid #00b894; padding: 1.5em; background: #eafff5; border-radius: 10px; font-family: 'Segoe UI', sans-serif; line-height: 1.6;\">\n",
    "  <h2 style=\"color:#00b894; margin-top: 0;\">🍃 Título de Sección Verde Menta</h2>\n",
    "  <p>Este bloque tiene un toque fresco y relajado, ideal para hablar de conceptos como lógica, organización de datos o tips para no entrar en pánico.</p>\n",
    "</div>"
   ]
  },
  {
   "cell_type": "markdown",
   "id": "48a608b9",
   "metadata": {},
   "source": [
    "<!-- Amarillo suave -->\n",
    "<div style=\"border-left: 6px solid #f9a825; padding: 1.5em; background: #fff8e1; border-radius: 10px; font-family: 'Segoe UI', sans-serif; line-height: 1.6; margin-bottom: 1em;\">\n",
    "  <h2 style=\"color:#f9a825; margin-top: 0;\">🌞 Título de Sección Amarilla</h2>\n",
    "  <p>Perfecto para bloques de energía positiva, recordatorios o notas que quieres que el usuario vea sí o sí.</p>\n",
    "</div>\n",
    "\n",
    "<!-- Azul celeste -->\n",
    "<div style=\"border-left: 6px solid #00acc1; padding: 1.5em; background: #e0f7fa; border-radius: 10px; font-family: 'Segoe UI', sans-serif; line-height: 1.6;\">\n",
    "  <h2 style=\"color:#00acc1; margin-top: 0;\">💧 Título de Sección Azul Celeste</h2>\n",
    "  <p>Ideal para explicaciones tranquilas, pasos suaves o cualquier parte del contenido donde quieras que el usuario respire y se relaje.</p>\n",
    "</div>"
   ]
  }
 ],
 "metadata": {
  "kernelspec": {
   "display_name": "base",
   "language": "python",
   "name": "python3"
  },
  "language_info": {
   "codemirror_mode": {
    "name": "ipython",
    "version": 3
   },
   "file_extension": ".py",
   "mimetype": "text/x-python",
   "name": "python",
   "nbconvert_exporter": "python",
   "pygments_lexer": "ipython3",
   "version": "3.12.4"
  }
 },
 "nbformat": 4,
 "nbformat_minor": 5
}
