{
 "cells": [
  {
   "cell_type": "markdown",
   "id": "0fd98ef2",
   "metadata": {},
   "source": [
    "# 📓 Un poquito de magia teórica"
   ]
  },
  {
   "cell_type": "code",
   "execution_count": 1,
   "id": "7a6cd012",
   "metadata": {},
   "outputs": [
    {
     "name": "stdout",
     "output_type": "stream",
     "text": [
      "x\n"
     ]
    }
   ],
   "source": [
    "print('x')"
   ]
  },
  {
   "cell_type": "markdown",
   "id": "4b540c4d",
   "metadata": {},
   "source": [
    "<div style=\"border-left: 6px solid #6a0dad; padding: 1.5em; background: #f9f2ff; border-radius: 10px; font-family: 'Segoe UI', sans-serif; line-height: 1.6;\">\n",
    "\n",
    "<h2 style=\"color:#6a0dad; margin-top: 0;\">📓 ¿Notebook? ¿Voy a tomar apuntes como en la prepa?</h2>\n",
    "\n",
    "<p>No exactamente. Esto no es tu cuaderno de Ética y Valores.</p>\n",
    "\n",
    "<p>Un <strong>Notebook</strong> es una libreta interactiva donde puedes escribir instrucciones (código) y ver cómo la computadora te responde. Pero no solo con texto plano… aquí puedes tener tablas, gráficas, botones, hasta animaciones si te pones muy creativo.</p>\n",
    "\n",
    "<p>¿Y por qué está en inglés? Porque así se programan las computadoras. No es que queramos sonar más “tech” o modernos, simplemente <em>los lenguajes de programación están basados en palabras clave en inglés</em>: cosas como <code>print</code>, <code>input</code>, <code>if</code>, <code>while</code> y compañía.</p>\n",
    "\n",
    "<p style=\"margin-left: 1em;\">🔤 <strong>Traducción para humanos:</strong> no necesitas hablar inglés fluido, pero sí vas a ver palabras que suenan gringas. Spoiler: aprendes su significado muy rápido, porque hacen cosas útiles.</p>\n",
    "\n",
    "<p>📁 Si descargaste este archivo desde GitHub, verás que termina en <code>.ipynb</code> — eso significa <em>Interactive Python Notebook</em>. Y sí, eso quiere decir que es un archivo especial que se abre con algo como <strong>Jupyter</strong> o <strong>Google Colab</strong>, no con Excel ni con Word (no insistas).</p>\n",
    "\n",
    "<hr style=\"border:none; border-top:1px solid #ccc;\" />\n",
    "\n",
    "<h2 style=\"color:#6a0dad;\">🧠 ¿Y qué es eso del <code>Kernel</code>? ¿Y por qué suena a robot?</h2>\n",
    "\n",
    "<p><strong>Porque lo es… un poco.</strong></p>\n",
    "\n",
    "<p>El <strong>kernel</strong> es el motorcito del notebook. Tú escribes código, él lo entiende, lo ejecuta y te responde. Es como el chef de un restaurante: tú pides “suma estos datos”, y él va, lo hace, y te entrega el platillo (el resultado).</p>\n",
    "\n",
    "<p>Sin kernel, no pasa nada. Literal. Puedes escribir todo lo que quieras… y no obtendrás respuesta. Como gritarle a una tele apagada.</p>\n",
    "\n",
    "<h3 style=\"color:#6a0dad;\">⚙️ ¿Dónde vive el kernel?</h3>\n",
    "\n",
    "<ul style=\"margin-left: 1.5em;\">\n",
    "  <li><strong>Google Colab / Kaggle / otros notebooks en la nube:</strong> el kernel está en internet. Tú escribes y un servidor en el espacio cibernético ejecuta tu código.</li>\n",
    "  <li><strong>Jupyter Notebook local (en tu compu):</strong> el kernel corre ahí mismo, en tu máquina. Sin Wi-Fi, pero con poder local.</li>\n",
    "</ul>\n",
    "\n",
    "<h3 style=\"color:#6a0dad;\">💥 ¿Y qué le puede pasar al kernel?</h3>\n",
    "\n",
    "<ul style=\"margin-left: 1.5em;\">\n",
    "  <li>🔁 <strong>Se reinicia:</strong> tú lo apagaste (por error o por limpieza mental).</li>\n",
    "  <li>🚫 <strong>Se cae:</strong> le pediste algo raro, como dividir entre cero o cargar un archivo de 4GB en una tostadora.</li>\n",
    "  <li>😴 <strong>Se duerme:</strong> Google decidió que ya fue mucho por hoy.</li>\n",
    "</ul>\n",
    "\n",
    "<p>¿La solución mágica? <strong>Reinicia el kernel</strong>. Ya.  \n",
    "Haz clic en “<em>Restart kernel</em>” o su equivalente, y todo vuelve a la normalidad.  \n",
    "Es el “apaga y prende” de toda la vida. Funciona 9 de cada 10 veces.</p>\n",
    "\n",
    "<hr style=\"border:none; border-top:1px solid #ccc;\" />\n",
    "\n",
    "<p><em style=\"color: #555;\">📌 Nota:</em> Cada vez que reinicies el kernel, tendrás que volver a ejecutar tus celdas. El kernel pierde la memoria, como si se hubiera echado un tequila.</p>\n",
    "\n",
    "</div>"
   ]
  }
 ],
 "metadata": {
  "kernelspec": {
   "display_name": "base",
   "language": "python",
   "name": "python3"
  },
  "language_info": {
   "codemirror_mode": {
    "name": "ipython",
    "version": 3
   },
   "file_extension": ".py",
   "mimetype": "text/x-python",
   "name": "python",
   "nbconvert_exporter": "python",
   "pygments_lexer": "ipython3",
   "version": "3.12.4"
  }
 },
 "nbformat": 4,
 "nbformat_minor": 5
}
