{
 "cells": [
  {
   "cell_type": "markdown",
   "id": "a042018f",
   "metadata": {},
   "source": [
    "# 📓 Un poquito de magia teórica"
   ]
  }
 ],
 "metadata": {
  "language_info": {
   "name": "python"
  }
 },
 "nbformat": 4,
 "nbformat_minor": 5
}
