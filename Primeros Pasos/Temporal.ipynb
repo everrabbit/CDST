{
 "cells": [
  {
   "cell_type": "code",
   "execution_count": null,
   "id": "ad2c0b24",
   "metadata": {},
   "outputs": [],
   "source": [
    "/mnt/e/OneDrive/Ciencia de datos sin tantos datos/Contenido/0. Primeros Pasos/Temporal.ipynb"
   ]
  }
 ],
 "metadata": {
  "language_info": {
   "name": "python"
  }
 },
 "nbformat": 4,
 "nbformat_minor": 5
}
